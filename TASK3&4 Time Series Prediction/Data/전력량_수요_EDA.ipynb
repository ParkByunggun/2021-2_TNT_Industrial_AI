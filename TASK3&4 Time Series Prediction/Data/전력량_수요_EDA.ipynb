{
  "nbformat": 4,
  "nbformat_minor": 0,
  "metadata": {
    "colab": {
      "name": "전력량 수요 EDA.ipynb",
      "provenance": [],
      "collapsed_sections": []
    },
    "kernelspec": {
      "name": "python3",
      "display_name": "Python 3"
    },
    "language_info": {
      "name": "python"
    }
  },
  "cells": [
    {
      "cell_type": "code",
      "metadata": {
        "id": "di0CZ7WMxq6S"
      },
      "source": [
        "import numpy as np\n",
        "import pandas as pd\n",
        "import matplotlib.pyplot as plt\n",
        "import matplotlib\n",
        "import seaborn as sns\n",
        "import math\n",
        "from sklearn.metrics import mean_absolute_error\n",
        "from lightgbm import LGBMRegressor\n",
        "from sklearn.model_selection import KFold"
      ],
      "execution_count": 21,
      "outputs": []
    },
    {
      "cell_type": "code",
      "metadata": {
        "id": "sGe3aCe3J0X1"
      },
      "source": [
        "import matplotlib.pyplot as plt\n",
        "plt.rc('font', family='NanumBarunGothic') "
      ],
      "execution_count": 75,
      "outputs": []
    },
    {
      "cell_type": "code",
      "metadata": {
        "colab": {
          "base_uri": "https://localhost:8080/"
        },
        "id": "-y7sndN7Caoq",
        "outputId": "af8f7f25-884b-47df-8d02-f837093015b9"
      },
      "source": [
        "from google.colab import drive\n",
        "drive.mount('/content/drive')"
      ],
      "execution_count": 23,
      "outputs": [
        {
          "output_type": "stream",
          "name": "stdout",
          "text": [
            "Drive already mounted at /content/drive; to attempt to forcibly remount, call drive.mount(\"/content/drive\", force_remount=True).\n"
          ]
        }
      ]
    },
    {
      "cell_type": "code",
      "metadata": {
        "id": "jEAMObapCfBu"
      },
      "source": [
        "train = pd.read_csv('/content/drive/MyDrive/Colab Notebooks/Elec/train.csv',encoding='cp949')\n",
        "test = pd.read_csv('/content/drive/MyDrive/Colab Notebooks/Elec/test.csv',encoding='cp949')\n",
        "sample_sub = pd.read_csv('/content/drive/MyDrive/Colab Notebooks/Elec/sample_submission.csv',encoding='cp949')"
      ],
      "execution_count": 24,
      "outputs": []
    },
    {
      "cell_type": "code",
      "metadata": {
        "colab": {
          "base_uri": "https://localhost:8080/",
          "height": 202
        },
        "id": "x1BPvv9MDJ8k",
        "outputId": "c46387cd-dc5a-409c-9cfe-30e79757bdc1"
      },
      "source": [
        "train.head()"
      ],
      "execution_count": 25,
      "outputs": [
        {
          "output_type": "execute_result",
          "data": {
            "text/html": [
              "<div>\n",
              "<style scoped>\n",
              "    .dataframe tbody tr th:only-of-type {\n",
              "        vertical-align: middle;\n",
              "    }\n",
              "\n",
              "    .dataframe tbody tr th {\n",
              "        vertical-align: top;\n",
              "    }\n",
              "\n",
              "    .dataframe thead th {\n",
              "        text-align: right;\n",
              "    }\n",
              "</style>\n",
              "<table border=\"1\" class=\"dataframe\">\n",
              "  <thead>\n",
              "    <tr style=\"text-align: right;\">\n",
              "      <th></th>\n",
              "      <th>num</th>\n",
              "      <th>date_time</th>\n",
              "      <th>전력사용량(kWh)</th>\n",
              "      <th>기온(°C)</th>\n",
              "      <th>풍속(m/s)</th>\n",
              "      <th>습도(%)</th>\n",
              "      <th>강수량(mm)</th>\n",
              "      <th>일조(hr)</th>\n",
              "      <th>비전기냉방설비운영</th>\n",
              "      <th>태양광보유</th>\n",
              "    </tr>\n",
              "  </thead>\n",
              "  <tbody>\n",
              "    <tr>\n",
              "      <th>0</th>\n",
              "      <td>1</td>\n",
              "      <td>2020-06-01 00</td>\n",
              "      <td>8179.056</td>\n",
              "      <td>17.6</td>\n",
              "      <td>2.5</td>\n",
              "      <td>92.0</td>\n",
              "      <td>0.8</td>\n",
              "      <td>0.0</td>\n",
              "      <td>0.0</td>\n",
              "      <td>0.0</td>\n",
              "    </tr>\n",
              "    <tr>\n",
              "      <th>1</th>\n",
              "      <td>1</td>\n",
              "      <td>2020-06-01 01</td>\n",
              "      <td>8135.640</td>\n",
              "      <td>17.7</td>\n",
              "      <td>2.9</td>\n",
              "      <td>91.0</td>\n",
              "      <td>0.3</td>\n",
              "      <td>0.0</td>\n",
              "      <td>0.0</td>\n",
              "      <td>0.0</td>\n",
              "    </tr>\n",
              "    <tr>\n",
              "      <th>2</th>\n",
              "      <td>1</td>\n",
              "      <td>2020-06-01 02</td>\n",
              "      <td>8107.128</td>\n",
              "      <td>17.5</td>\n",
              "      <td>3.2</td>\n",
              "      <td>91.0</td>\n",
              "      <td>0.0</td>\n",
              "      <td>0.0</td>\n",
              "      <td>0.0</td>\n",
              "      <td>0.0</td>\n",
              "    </tr>\n",
              "    <tr>\n",
              "      <th>3</th>\n",
              "      <td>1</td>\n",
              "      <td>2020-06-01 03</td>\n",
              "      <td>8048.808</td>\n",
              "      <td>17.1</td>\n",
              "      <td>3.2</td>\n",
              "      <td>91.0</td>\n",
              "      <td>0.0</td>\n",
              "      <td>0.0</td>\n",
              "      <td>0.0</td>\n",
              "      <td>0.0</td>\n",
              "    </tr>\n",
              "    <tr>\n",
              "      <th>4</th>\n",
              "      <td>1</td>\n",
              "      <td>2020-06-01 04</td>\n",
              "      <td>8043.624</td>\n",
              "      <td>17.0</td>\n",
              "      <td>3.3</td>\n",
              "      <td>92.0</td>\n",
              "      <td>0.0</td>\n",
              "      <td>0.0</td>\n",
              "      <td>0.0</td>\n",
              "      <td>0.0</td>\n",
              "    </tr>\n",
              "  </tbody>\n",
              "</table>\n",
              "</div>"
            ],
            "text/plain": [
              "   num      date_time  전력사용량(kWh)  기온(°C)  ...  강수량(mm)  일조(hr)  비전기냉방설비운영  태양광보유\n",
              "0    1  2020-06-01 00    8179.056    17.6  ...      0.8     0.0        0.0    0.0\n",
              "1    1  2020-06-01 01    8135.640    17.7  ...      0.3     0.0        0.0    0.0\n",
              "2    1  2020-06-01 02    8107.128    17.5  ...      0.0     0.0        0.0    0.0\n",
              "3    1  2020-06-01 03    8048.808    17.1  ...      0.0     0.0        0.0    0.0\n",
              "4    1  2020-06-01 04    8043.624    17.0  ...      0.0     0.0        0.0    0.0\n",
              "\n",
              "[5 rows x 10 columns]"
            ]
          },
          "metadata": {},
          "execution_count": 25
        }
      ]
    },
    {
      "cell_type": "code",
      "metadata": {
        "colab": {
          "base_uri": "https://localhost:8080/",
          "height": 202
        },
        "id": "GdZ5rWCdEsnJ",
        "outputId": "e3263f13-1702-4e72-f34f-a56cb2846adb"
      },
      "source": [
        "test.head()"
      ],
      "execution_count": 26,
      "outputs": [
        {
          "output_type": "execute_result",
          "data": {
            "text/html": [
              "<div>\n",
              "<style scoped>\n",
              "    .dataframe tbody tr th:only-of-type {\n",
              "        vertical-align: middle;\n",
              "    }\n",
              "\n",
              "    .dataframe tbody tr th {\n",
              "        vertical-align: top;\n",
              "    }\n",
              "\n",
              "    .dataframe thead th {\n",
              "        text-align: right;\n",
              "    }\n",
              "</style>\n",
              "<table border=\"1\" class=\"dataframe\">\n",
              "  <thead>\n",
              "    <tr style=\"text-align: right;\">\n",
              "      <th></th>\n",
              "      <th>num</th>\n",
              "      <th>date_time</th>\n",
              "      <th>기온(°C)</th>\n",
              "      <th>풍속(m/s)</th>\n",
              "      <th>습도(%)</th>\n",
              "      <th>강수량(mm, 6시간)</th>\n",
              "      <th>일조(hr, 3시간)</th>\n",
              "      <th>비전기냉방설비운영</th>\n",
              "      <th>태양광보유</th>\n",
              "    </tr>\n",
              "  </thead>\n",
              "  <tbody>\n",
              "    <tr>\n",
              "      <th>0</th>\n",
              "      <td>1</td>\n",
              "      <td>2020-08-25 00</td>\n",
              "      <td>27.8</td>\n",
              "      <td>1.5</td>\n",
              "      <td>74.0</td>\n",
              "      <td>0.0</td>\n",
              "      <td>0.0</td>\n",
              "      <td>NaN</td>\n",
              "      <td>NaN</td>\n",
              "    </tr>\n",
              "    <tr>\n",
              "      <th>1</th>\n",
              "      <td>1</td>\n",
              "      <td>2020-08-25 01</td>\n",
              "      <td>NaN</td>\n",
              "      <td>NaN</td>\n",
              "      <td>NaN</td>\n",
              "      <td>NaN</td>\n",
              "      <td>NaN</td>\n",
              "      <td>NaN</td>\n",
              "      <td>NaN</td>\n",
              "    </tr>\n",
              "    <tr>\n",
              "      <th>2</th>\n",
              "      <td>1</td>\n",
              "      <td>2020-08-25 02</td>\n",
              "      <td>NaN</td>\n",
              "      <td>NaN</td>\n",
              "      <td>NaN</td>\n",
              "      <td>NaN</td>\n",
              "      <td>NaN</td>\n",
              "      <td>NaN</td>\n",
              "      <td>NaN</td>\n",
              "    </tr>\n",
              "    <tr>\n",
              "      <th>3</th>\n",
              "      <td>1</td>\n",
              "      <td>2020-08-25 03</td>\n",
              "      <td>27.3</td>\n",
              "      <td>1.1</td>\n",
              "      <td>78.0</td>\n",
              "      <td>NaN</td>\n",
              "      <td>0.0</td>\n",
              "      <td>NaN</td>\n",
              "      <td>NaN</td>\n",
              "    </tr>\n",
              "    <tr>\n",
              "      <th>4</th>\n",
              "      <td>1</td>\n",
              "      <td>2020-08-25 04</td>\n",
              "      <td>NaN</td>\n",
              "      <td>NaN</td>\n",
              "      <td>NaN</td>\n",
              "      <td>NaN</td>\n",
              "      <td>NaN</td>\n",
              "      <td>NaN</td>\n",
              "      <td>NaN</td>\n",
              "    </tr>\n",
              "  </tbody>\n",
              "</table>\n",
              "</div>"
            ],
            "text/plain": [
              "   num      date_time  기온(°C)  ...  일조(hr, 3시간)  비전기냉방설비운영  태양광보유\n",
              "0    1  2020-08-25 00    27.8  ...          0.0        NaN    NaN\n",
              "1    1  2020-08-25 01     NaN  ...          NaN        NaN    NaN\n",
              "2    1  2020-08-25 02     NaN  ...          NaN        NaN    NaN\n",
              "3    1  2020-08-25 03    27.3  ...          0.0        NaN    NaN\n",
              "4    1  2020-08-25 04     NaN  ...          NaN        NaN    NaN\n",
              "\n",
              "[5 rows x 9 columns]"
            ]
          },
          "metadata": {},
          "execution_count": 26
        }
      ]
    },
    {
      "cell_type": "code",
      "metadata": {
        "colab": {
          "base_uri": "https://localhost:8080/"
        },
        "id": "aXEfvlWuTA-1",
        "outputId": "ec2e04a9-4b12-440d-d293-21aa465f40dd"
      },
      "source": [
        "train.info(), test.info()"
      ],
      "execution_count": 27,
      "outputs": [
        {
          "output_type": "stream",
          "name": "stdout",
          "text": [
            "<class 'pandas.core.frame.DataFrame'>\n",
            "RangeIndex: 122400 entries, 0 to 122399\n",
            "Data columns (total 10 columns):\n",
            " #   Column      Non-Null Count   Dtype  \n",
            "---  ------      --------------   -----  \n",
            " 0   num         122400 non-null  int64  \n",
            " 1   date_time   122400 non-null  object \n",
            " 2   전력사용량(kWh)  122400 non-null  float64\n",
            " 3   기온(°C)      122400 non-null  float64\n",
            " 4   풍속(m/s)     122400 non-null  float64\n",
            " 5   습도(%)       122400 non-null  float64\n",
            " 6   강수량(mm)     122400 non-null  float64\n",
            " 7   일조(hr)      122400 non-null  float64\n",
            " 8   비전기냉방설비운영   122400 non-null  float64\n",
            " 9   태양광보유       122400 non-null  float64\n",
            "dtypes: float64(8), int64(1), object(1)\n",
            "memory usage: 9.3+ MB\n",
            "<class 'pandas.core.frame.DataFrame'>\n",
            "RangeIndex: 10080 entries, 0 to 10079\n",
            "Data columns (total 9 columns):\n",
            " #   Column        Non-Null Count  Dtype  \n",
            "---  ------        --------------  -----  \n",
            " 0   num           10080 non-null  int64  \n",
            " 1   date_time     10080 non-null  object \n",
            " 2   기온(°C)        3360 non-null   float64\n",
            " 3   풍속(m/s)       3360 non-null   float64\n",
            " 4   습도(%)         3360 non-null   float64\n",
            " 5   강수량(mm, 6시간)  1680 non-null   float64\n",
            " 6   일조(hr, 3시간)   3360 non-null   float64\n",
            " 7   비전기냉방설비운영     2296 non-null   float64\n",
            " 8   태양광보유         1624 non-null   float64\n",
            "dtypes: float64(7), int64(1), object(1)\n",
            "memory usage: 708.9+ KB\n"
          ]
        },
        {
          "output_type": "execute_result",
          "data": {
            "text/plain": [
              "(None, None)"
            ]
          },
          "metadata": {},
          "execution_count": 27
        }
      ]
    },
    {
      "cell_type": "code",
      "metadata": {
        "colab": {
          "base_uri": "https://localhost:8080/"
        },
        "id": "VuhjfbPuEotH",
        "outputId": "482205c4-1704-4680-f396-68cd7a9713c3"
      },
      "source": [
        "train.shape, test.shape"
      ],
      "execution_count": 28,
      "outputs": [
        {
          "output_type": "execute_result",
          "data": {
            "text/plain": [
              "((122400, 10), (10080, 9))"
            ]
          },
          "metadata": {},
          "execution_count": 28
        }
      ]
    },
    {
      "cell_type": "code",
      "metadata": {
        "colab": {
          "base_uri": "https://localhost:8080/"
        },
        "id": "_OhPFQFNDewT",
        "outputId": "f9e18a54-27ab-4c14-ddbd-e904137f7311"
      },
      "source": [
        "train.isnull().sum(), test.isnull().sum()\n",
        "## test 데이터 보간 필요 --- 전력량 예측하는데 문제 발생"
      ],
      "execution_count": 29,
      "outputs": [
        {
          "output_type": "execute_result",
          "data": {
            "text/plain": [
              "(num           0\n",
              " date_time     0\n",
              " 전력사용량(kWh)    0\n",
              " 기온(°C)        0\n",
              " 풍속(m/s)       0\n",
              " 습도(%)         0\n",
              " 강수량(mm)       0\n",
              " 일조(hr)        0\n",
              " 비전기냉방설비운영     0\n",
              " 태양광보유         0\n",
              " dtype: int64, num                0\n",
              " date_time          0\n",
              " 기온(°C)          6720\n",
              " 풍속(m/s)         6720\n",
              " 습도(%)           6720\n",
              " 강수량(mm, 6시간)    8400\n",
              " 일조(hr, 3시간)     6720\n",
              " 비전기냉방설비운영       7784\n",
              " 태양광보유           8456\n",
              " dtype: int64)"
            ]
          },
          "metadata": {},
          "execution_count": 29
        }
      ]
    },
    {
      "cell_type": "code",
      "metadata": {
        "id": "f2XsNv2AEiIk"
      },
      "source": [
        "train[['num', '비전기냉방설비운영','태양광보유']]\n",
        "ice={}\n",
        "hot={}\n",
        "count=0\n",
        "for i in range(0, len(train), len(train)//60):\n",
        "    count +=1\n",
        "    ice[count]=train.loc[i,'비전기냉방설비운영']\n",
        "    hot[count]=train.loc[i,'태양광보유']"
      ],
      "execution_count": 30,
      "outputs": []
    },
    {
      "cell_type": "code",
      "metadata": {
        "id": "Al1gylzyKvrb"
      },
      "source": [
        "for i in range(len(test)):\n",
        "    test.loc[i, '비전기냉방설비운영']=ice[test['num'][i]]\n",
        "    test.loc[i, '태양광보유']=hot[test['num'][i]]"
      ],
      "execution_count": 31,
      "outputs": []
    },
    {
      "cell_type": "code",
      "metadata": {
        "id": "8pedwnxZFwV1"
      },
      "source": [
        "def time(x):\n",
        "    return int(x[-2:])\n",
        "train['time']=train['date_time'].apply(lambda x: time(x))\n",
        "test['time']=test['date_time'].apply(lambda x: time(x))\n",
        "\n",
        "def weekday(x):\n",
        "    return pd.to_datetime(x[:10]).weekday()\n",
        "train['weekday']=train['date_time'].apply(lambda x :weekday(x))\n",
        "test['weekday']=test['date_time'].apply(lambda x :weekday(x))"
      ],
      "execution_count": 32,
      "outputs": []
    },
    {
      "cell_type": "code",
      "metadata": {
        "colab": {
          "base_uri": "https://localhost:8080/"
        },
        "id": "2weLmO3YKuij",
        "outputId": "03655e20-3add-4d1a-ff5b-3ffa7c9686a0"
      },
      "source": [
        "train.dtypes"
      ],
      "execution_count": 33,
      "outputs": [
        {
          "output_type": "execute_result",
          "data": {
            "text/plain": [
              "num             int64\n",
              "date_time      object\n",
              "전력사용량(kWh)    float64\n",
              "기온(°C)        float64\n",
              "풍속(m/s)       float64\n",
              "습도(%)         float64\n",
              "강수량(mm)       float64\n",
              "일조(hr)        float64\n",
              "비전기냉방설비운영     float64\n",
              "태양광보유         float64\n",
              "time            int64\n",
              "weekday         int64\n",
              "dtype: object"
            ]
          },
          "metadata": {},
          "execution_count": 33
        }
      ]
    },
    {
      "cell_type": "code",
      "metadata": {
        "id": "SEE2MvpyLILS"
      },
      "source": [
        "test=test.interpolate(method='values')"
      ],
      "execution_count": 59,
      "outputs": []
    },
    {
      "cell_type": "code",
      "metadata": {
        "colab": {
          "base_uri": "https://localhost:8080/",
          "height": 414
        },
        "id": "MFLwmnWcRYp0",
        "outputId": "975de069-7ecc-493f-a66c-637f0fcc716f"
      },
      "source": [
        "test"
      ],
      "execution_count": 60,
      "outputs": [
        {
          "output_type": "execute_result",
          "data": {
            "text/html": [
              "<div>\n",
              "<style scoped>\n",
              "    .dataframe tbody tr th:only-of-type {\n",
              "        vertical-align: middle;\n",
              "    }\n",
              "\n",
              "    .dataframe tbody tr th {\n",
              "        vertical-align: top;\n",
              "    }\n",
              "\n",
              "    .dataframe thead th {\n",
              "        text-align: right;\n",
              "    }\n",
              "</style>\n",
              "<table border=\"1\" class=\"dataframe\">\n",
              "  <thead>\n",
              "    <tr style=\"text-align: right;\">\n",
              "      <th></th>\n",
              "      <th>num</th>\n",
              "      <th>date_time</th>\n",
              "      <th>기온(°C)</th>\n",
              "      <th>풍속(m/s)</th>\n",
              "      <th>습도(%)</th>\n",
              "      <th>강수량(mm, 6시간)</th>\n",
              "      <th>일조(hr, 3시간)</th>\n",
              "      <th>비전기냉방설비운영</th>\n",
              "      <th>태양광보유</th>\n",
              "      <th>time</th>\n",
              "      <th>weekday</th>\n",
              "      <th>cluster</th>\n",
              "    </tr>\n",
              "  </thead>\n",
              "  <tbody>\n",
              "    <tr>\n",
              "      <th>0</th>\n",
              "      <td>1</td>\n",
              "      <td>2020-08-25 00</td>\n",
              "      <td>27.800000</td>\n",
              "      <td>1.500000</td>\n",
              "      <td>74.000000</td>\n",
              "      <td>0.0</td>\n",
              "      <td>0.000000</td>\n",
              "      <td>0.0</td>\n",
              "      <td>0.0</td>\n",
              "      <td>0</td>\n",
              "      <td>1</td>\n",
              "      <td>0</td>\n",
              "    </tr>\n",
              "    <tr>\n",
              "      <th>1</th>\n",
              "      <td>1</td>\n",
              "      <td>2020-08-25 01</td>\n",
              "      <td>27.633333</td>\n",
              "      <td>1.366667</td>\n",
              "      <td>75.333333</td>\n",
              "      <td>0.0</td>\n",
              "      <td>0.000000</td>\n",
              "      <td>0.0</td>\n",
              "      <td>0.0</td>\n",
              "      <td>1</td>\n",
              "      <td>1</td>\n",
              "      <td>0</td>\n",
              "    </tr>\n",
              "    <tr>\n",
              "      <th>2</th>\n",
              "      <td>1</td>\n",
              "      <td>2020-08-25 02</td>\n",
              "      <td>27.466667</td>\n",
              "      <td>1.233333</td>\n",
              "      <td>76.666667</td>\n",
              "      <td>0.0</td>\n",
              "      <td>0.000000</td>\n",
              "      <td>0.0</td>\n",
              "      <td>0.0</td>\n",
              "      <td>2</td>\n",
              "      <td>1</td>\n",
              "      <td>0</td>\n",
              "    </tr>\n",
              "    <tr>\n",
              "      <th>3</th>\n",
              "      <td>1</td>\n",
              "      <td>2020-08-25 03</td>\n",
              "      <td>27.300000</td>\n",
              "      <td>1.100000</td>\n",
              "      <td>78.000000</td>\n",
              "      <td>0.0</td>\n",
              "      <td>0.000000</td>\n",
              "      <td>0.0</td>\n",
              "      <td>0.0</td>\n",
              "      <td>3</td>\n",
              "      <td>1</td>\n",
              "      <td>0</td>\n",
              "    </tr>\n",
              "    <tr>\n",
              "      <th>4</th>\n",
              "      <td>1</td>\n",
              "      <td>2020-08-25 04</td>\n",
              "      <td>26.900000</td>\n",
              "      <td>1.166667</td>\n",
              "      <td>79.666667</td>\n",
              "      <td>0.0</td>\n",
              "      <td>0.000000</td>\n",
              "      <td>0.0</td>\n",
              "      <td>0.0</td>\n",
              "      <td>4</td>\n",
              "      <td>1</td>\n",
              "      <td>0</td>\n",
              "    </tr>\n",
              "    <tr>\n",
              "      <th>...</th>\n",
              "      <td>...</td>\n",
              "      <td>...</td>\n",
              "      <td>...</td>\n",
              "      <td>...</td>\n",
              "      <td>...</td>\n",
              "      <td>...</td>\n",
              "      <td>...</td>\n",
              "      <td>...</td>\n",
              "      <td>...</td>\n",
              "      <td>...</td>\n",
              "      <td>...</td>\n",
              "      <td>...</td>\n",
              "    </tr>\n",
              "    <tr>\n",
              "      <th>10075</th>\n",
              "      <td>60</td>\n",
              "      <td>2020-08-31 19</td>\n",
              "      <td>28.633333</td>\n",
              "      <td>3.566667</td>\n",
              "      <td>66.000000</td>\n",
              "      <td>0.0</td>\n",
              "      <td>0.533333</td>\n",
              "      <td>1.0</td>\n",
              "      <td>1.0</td>\n",
              "      <td>19</td>\n",
              "      <td>0</td>\n",
              "      <td>2</td>\n",
              "    </tr>\n",
              "    <tr>\n",
              "      <th>10076</th>\n",
              "      <td>60</td>\n",
              "      <td>2020-08-31 20</td>\n",
              "      <td>28.266667</td>\n",
              "      <td>3.833333</td>\n",
              "      <td>67.000000</td>\n",
              "      <td>0.0</td>\n",
              "      <td>0.266667</td>\n",
              "      <td>1.0</td>\n",
              "      <td>1.0</td>\n",
              "      <td>20</td>\n",
              "      <td>0</td>\n",
              "      <td>2</td>\n",
              "    </tr>\n",
              "    <tr>\n",
              "      <th>10077</th>\n",
              "      <td>60</td>\n",
              "      <td>2020-08-31 21</td>\n",
              "      <td>27.900000</td>\n",
              "      <td>4.100000</td>\n",
              "      <td>68.000000</td>\n",
              "      <td>0.0</td>\n",
              "      <td>0.000000</td>\n",
              "      <td>1.0</td>\n",
              "      <td>1.0</td>\n",
              "      <td>21</td>\n",
              "      <td>0</td>\n",
              "      <td>2</td>\n",
              "    </tr>\n",
              "    <tr>\n",
              "      <th>10078</th>\n",
              "      <td>60</td>\n",
              "      <td>2020-08-31 22</td>\n",
              "      <td>27.900000</td>\n",
              "      <td>4.100000</td>\n",
              "      <td>68.000000</td>\n",
              "      <td>0.0</td>\n",
              "      <td>0.000000</td>\n",
              "      <td>1.0</td>\n",
              "      <td>1.0</td>\n",
              "      <td>22</td>\n",
              "      <td>0</td>\n",
              "      <td>2</td>\n",
              "    </tr>\n",
              "    <tr>\n",
              "      <th>10079</th>\n",
              "      <td>60</td>\n",
              "      <td>2020-08-31 23</td>\n",
              "      <td>27.900000</td>\n",
              "      <td>4.100000</td>\n",
              "      <td>68.000000</td>\n",
              "      <td>0.0</td>\n",
              "      <td>0.000000</td>\n",
              "      <td>1.0</td>\n",
              "      <td>1.0</td>\n",
              "      <td>23</td>\n",
              "      <td>0</td>\n",
              "      <td>2</td>\n",
              "    </tr>\n",
              "  </tbody>\n",
              "</table>\n",
              "<p>10080 rows × 12 columns</p>\n",
              "</div>"
            ],
            "text/plain": [
              "       num      date_time     기온(°C)   풍속(m/s)  ...  태양광보유  time  weekday  cluster\n",
              "0        1  2020-08-25 00  27.800000  1.500000  ...    0.0     0        1        0\n",
              "1        1  2020-08-25 01  27.633333  1.366667  ...    0.0     1        1        0\n",
              "2        1  2020-08-25 02  27.466667  1.233333  ...    0.0     2        1        0\n",
              "3        1  2020-08-25 03  27.300000  1.100000  ...    0.0     3        1        0\n",
              "4        1  2020-08-25 04  26.900000  1.166667  ...    0.0     4        1        0\n",
              "...    ...            ...        ...       ...  ...    ...   ...      ...      ...\n",
              "10075   60  2020-08-31 19  28.633333  3.566667  ...    1.0    19        0        2\n",
              "10076   60  2020-08-31 20  28.266667  3.833333  ...    1.0    20        0        2\n",
              "10077   60  2020-08-31 21  27.900000  4.100000  ...    1.0    21        0        2\n",
              "10078   60  2020-08-31 22  27.900000  4.100000  ...    1.0    22        0        2\n",
              "10079   60  2020-08-31 23  27.900000  4.100000  ...    1.0    23        0        2\n",
              "\n",
              "[10080 rows x 12 columns]"
            ]
          },
          "metadata": {},
          "execution_count": 60
        }
      ]
    },
    {
      "cell_type": "code",
      "metadata": {
        "colab": {
          "base_uri": "https://localhost:8080/"
        },
        "id": "GNRF167VHB-t",
        "outputId": "edb77d99-dacb-4c4e-b8d1-7a0b85edc76d"
      },
      "source": [
        "check = train.iloc[:,3:]\n",
        "for i in range(len(check.columns)):\n",
        "  print(check.iloc[:,i].unique())"
      ],
      "execution_count": 35,
      "outputs": [
        {
          "output_type": "stream",
          "name": "stdout",
          "text": [
            "[17.6 17.7 17.5 17.1 17.  16.9 16.7 17.8 19.3 20.5 22.1 23.1 23.6 23.8\n",
            " 24.4 22.7 21.3 19.8 18.6 17.9 17.2 16.6 16.2 15.9 15.7 15.5 14.8 15.\n",
            " 16.  17.3 16.3 20.4 20.9 21.7 21.2 20.6 20.3 19.9 19.6 19.  18.4 18.3\n",
            " 18.2 18.1 19.7 20.8 22.  26.1 26.8 27.9 28.2 28.1 21.  20.1 20.  22.4\n",
            " 23.9 25.  26.  26.4 25.4 24.3 23.2 22.8 21.4 19.5 18.9 18.7 22.3 25.1\n",
            " 26.3 27.2 27.8 28.5 28.6 25.8 21.1 20.7 19.4 19.2 24.  25.6 29.3 29.4\n",
            " 30.5 30.6 29.1 27.1 25.2 24.8 23.4 27.4 28.4 28.9 28.  25.7 24.5 23.\n",
            " 21.6 22.5 25.5 29.8 31.2 31.6 30.7 22.9 27.7 29.5 31.1 31.9 32.6 32.7\n",
            " 32.5 30.  26.6 24.6 24.9 29.  30.3 31.  28.7 23.7 22.6 22.2 21.8 21.9\n",
            " 24.2 25.9 29.2 30.2 31.3 31.4 23.3 23.5 26.5 27.3 27.  24.1 21.5 27.5\n",
            " 33.1 33.  32.  29.7 26.9 19.1 18.8 20.2 30.4 29.6 24.7 27.6 29.9 25.3\n",
            " 26.2 26.7 28.8 28.3 31.5 31.8 32.3 30.9 32.8 33.7 35.2 35.  31.7 30.8\n",
            " 30.1 18.5 32.4 18.  32.1 32.2 16.1 15.2 14.6 14.1 13.6 13.8 13.9 13.2\n",
            " 13.4 14.5 16.5 17.4 33.6 15.8 33.9 33.8 34.5 32.9 33.4 16.4 16.8 34.6\n",
            " 34.1 33.5 34.7 35.6 36.3 35.5 35.3 33.3 33.2 34.8 34.9 34.2 35.1 34.4\n",
            " 35.4 35.8 34.3 35.7 36.  14.  14.3 14.2 15.1 13.3 13.  12.9 12.6 14.4\n",
            " 14.7 34.  15.6 15.3 12.8 11.9 12.3 15.4 11.7 12.  12.1 13.1 14.9 13.7\n",
            " 13.5 11.8 12.5 12.2 11.3 11.1 11.2]\n",
            "[ 2.5  2.9  3.2  3.3  3.4  2.3  2.1  3.6  4.   5.1  5.5  3.   4.4  4.1\n",
            "  4.2  2.   1.6  0.8  1.1  0.4  0.9  1.3  2.2  1.4  2.6  3.1  2.4  2.7\n",
            "  1.7  1.8  1.5  2.8  3.8  4.5  4.8  5.2  1.   3.5  1.9  1.2  0.6  4.3\n",
            "  0.7  3.7  0.5  5.8  0.2  0.3  4.6  3.9  0.   5.3  6.5  6.1  4.7  5.6\n",
            "  5.   6.3  4.9  6.7  5.9  5.4  6.9  6.4  7.9  6.6  0.1  5.7  6.   6.2\n",
            "  7.4  7.5  8.  10.9  8.3 11.3 10.2  9.1 11.8  9.2  8.1  9.5  9.3  8.4\n",
            "  7.3  7.7  8.2  9.4  7.6  7.   8.5  8.7 11.5 11.6 11.7 12.1 12.3 10.\n",
            "  8.6  7.2  9.9  7.1  8.8 12.8 12.7  9.7  6.8 10.4  9.6  9.   7.8 10.1\n",
            "  8.9 11.1 12.6 10.8 10.7 10.3 12.5 11.9 15.2 13.6 19.8 20.1 18.9 16.2\n",
            " 16.6 13.3 12.  10.5  9.8 11.2 11.  12.4 10.6 18.1 13.2 14.7 17.5 17.2\n",
            " 15.6 16.8 15.4 13.7 13.5 16.3 14.6 16.4 14.8 15.5 15.  12.9 13.1 13.8\n",
            " 14.2]\n",
            "[ 92.   91.   93.   90.   86.   80.   73.   62.   52.   49.   42.   39.\n",
            "  40.   41.   44.   51.   55.   68.   74.   77.   78.   79.   75.   71.\n",
            "  65.   70.   48.   46.   58.   61.   84.   89.   87.   88.   82.   76.\n",
            "  50.   60.   81.   83.   63.   66.   67.   57.   64.   72.   47.   45.\n",
            "  59.   69.   56.   85.   43.   53.   38.   36.   54.   34.   29.   33.\n",
            "  35.   37.   30.   27.   31.   94.   95.   96.   97.   98.   99.  100.\n",
            "  22.   23.   19.   32.   28.   24.   26.   25.   72.2  85.9  86.8  88.5\n",
            "  90.2  20.   97.7  97.5  97.3  97.8  94.1  94.6]\n",
            "[ 0.8  0.3  0.   0.1  1.9  1.   2.4  0.2  6.6  7.8  6.2  1.5  0.7  3.3\n",
            "  1.2  1.7  1.6  1.1  2.   3.1  2.7  0.5  0.4  0.6  5.   5.6 13.3 10.8\n",
            "  2.3 12.4 11.  10.6  1.4  1.3  2.1  2.5  1.8  3.8  3.9  2.8  5.3  3.7\n",
            "  7.3 14.6  5.8  0.9  5.2  8.7 10.7 17.3 16.6  9.8 15.1 10.4  2.6  3.4\n",
            " 26.9  8.  19.  11.6  3.   5.5  2.9 12.2  3.2  8.9 19.8 15.3 16.3 21.6\n",
            " 11.7  6.1  6.3  6.  17.9 15.7 15.5  4.6  4.8  4.7  6.4  7.2 28.6  4.3\n",
            " 18.2 19.4 21.8 14.4 22.8  4.9 16.8 22.3  5.1  7.5 26.7 18.3 10.2  5.9\n",
            "  4.4  3.5  7.7 17.4  9.5 13.8 14.  18.6  5.4 24.6 51.7 20.1 23.7 54.8\n",
            " 12.5  8.4  4.1  7.   9.9  4.5  8.6  7.1 13.5 16.9 48.5  8.3 10.5  9.6\n",
            " 24.1 70.4  4.  12.  19.9  2.2 29.2 12.8  5.7 61.4 26.  17.  19.5 25.3\n",
            " 26.3  9.2 13.2  3.6  8.5  4.2 36.3 13.7 10.1  6.7 13.4  9.1  8.1 11.2\n",
            " 32.1  9.4 21.5  6.9 15.4 16.   8.8 39.1 14.7 14.5  9.3 24.4 42.6 24.7\n",
            "  7.4 38.  21.3 17.7 20.5 27.5  6.5  9.   8.2  7.9 11.9 15.6 16.4 17.5\n",
            " 21.9 11.1 21.  34.  12.7 27.1 14.1 13.  18.5 11.3 33.4 23.4 23.9 13.9\n",
            " 17.8 14.9 24.  10.   7.6 10.9 18.1 13.6 25.  15.2 29.9 16.2 34.9 28.5\n",
            "  6.8 11.4 16.7 17.6 11.8 25.7 15.  32.  21.2 31.  22.  16.5 26.5 19.1\n",
            " 21.7 36.  12.1 11.5 23.3 12.3 24.9 29.3 15.8 31.5 12.9 10.3 20.8  9.7\n",
            " 22.5 12.6 46.  14.3 24.2 37.5 17.1 14.8 52.2 26.6 38.1 20.  23.5 28.\n",
            " 22.6 22.9 25.2 35.1 25.8 20.6 47.4 29.4 13.1 26.8 20.3 16.1 39.3 33.\n",
            " 24.3 23.  25.1 50.4 43.1 27.2 20.9 24.5 34.2 38.6 30.5 21.1 26.2 48.4\n",
            " 27.8 52.9 19.3 81.5 34.8 30.9 18.7 17.2 19.6 36.5 27.9 48.8 34.4 54.6\n",
            " 22.4 14.2]\n",
            "[0.  0.1 0.3 0.7 1.  0.4 0.9 0.2 0.6 0.8 0.5]\n",
            "[0. 1.]\n",
            "[0. 1.]\n",
            "[ 0  1  2  3  4  5  6  7  8  9 10 11 12 13 14 15 16 17 18 19 20 21 22 23]\n",
            "[0 1 2 3 4 5 6]\n"
          ]
        }
      ]
    },
    {
      "cell_type": "code",
      "metadata": {
        "colab": {
          "base_uri": "https://localhost:8080/",
          "height": 1000
        },
        "id": "9vFM8tpUICja",
        "outputId": "cb445b3e-53f7-4dbd-cea5-32dbbe558e7a"
      },
      "source": [
        "train.iloc[:,2:-2].plot(figsize=(20,20)).legend(loc='center left',bbox_to_anchor=(1.0, 0.5))"
      ],
      "execution_count": 36,
      "outputs": [
        {
          "output_type": "execute_result",
          "data": {
            "text/plain": [
              "<matplotlib.legend.Legend at 0x7fef397d6650>"
            ]
          },
          "metadata": {},
          "execution_count": 36
        },
        {
          "output_type": "stream",
          "name": "stderr",
          "text": [
            "findfont: Font family ['NanumBarunGothic'] not found. Falling back to DejaVu Sans.\n",
            "/usr/local/lib/python3.7/dist-packages/matplotlib/backends/backend_agg.py:214: RuntimeWarning: Glyph 51204 missing from current font.\n",
            "  font.set_text(s, 0.0, flags=flags)\n",
            "/usr/local/lib/python3.7/dist-packages/matplotlib/backends/backend_agg.py:214: RuntimeWarning: Glyph 47141 missing from current font.\n",
            "  font.set_text(s, 0.0, flags=flags)\n",
            "/usr/local/lib/python3.7/dist-packages/matplotlib/backends/backend_agg.py:214: RuntimeWarning: Glyph 49324 missing from current font.\n",
            "  font.set_text(s, 0.0, flags=flags)\n",
            "/usr/local/lib/python3.7/dist-packages/matplotlib/backends/backend_agg.py:214: RuntimeWarning: Glyph 50857 missing from current font.\n",
            "  font.set_text(s, 0.0, flags=flags)\n",
            "/usr/local/lib/python3.7/dist-packages/matplotlib/backends/backend_agg.py:214: RuntimeWarning: Glyph 47049 missing from current font.\n",
            "  font.set_text(s, 0.0, flags=flags)\n",
            "/usr/local/lib/python3.7/dist-packages/matplotlib/backends/backend_agg.py:214: RuntimeWarning: Glyph 44592 missing from current font.\n",
            "  font.set_text(s, 0.0, flags=flags)\n",
            "/usr/local/lib/python3.7/dist-packages/matplotlib/backends/backend_agg.py:214: RuntimeWarning: Glyph 50728 missing from current font.\n",
            "  font.set_text(s, 0.0, flags=flags)\n",
            "/usr/local/lib/python3.7/dist-packages/matplotlib/backends/backend_agg.py:214: RuntimeWarning: Glyph 54413 missing from current font.\n",
            "  font.set_text(s, 0.0, flags=flags)\n",
            "/usr/local/lib/python3.7/dist-packages/matplotlib/backends/backend_agg.py:214: RuntimeWarning: Glyph 49549 missing from current font.\n",
            "  font.set_text(s, 0.0, flags=flags)\n",
            "/usr/local/lib/python3.7/dist-packages/matplotlib/backends/backend_agg.py:214: RuntimeWarning: Glyph 49845 missing from current font.\n",
            "  font.set_text(s, 0.0, flags=flags)\n",
            "/usr/local/lib/python3.7/dist-packages/matplotlib/backends/backend_agg.py:214: RuntimeWarning: Glyph 46020 missing from current font.\n",
            "  font.set_text(s, 0.0, flags=flags)\n",
            "/usr/local/lib/python3.7/dist-packages/matplotlib/backends/backend_agg.py:214: RuntimeWarning: Glyph 44053 missing from current font.\n",
            "  font.set_text(s, 0.0, flags=flags)\n",
            "/usr/local/lib/python3.7/dist-packages/matplotlib/backends/backend_agg.py:214: RuntimeWarning: Glyph 49688 missing from current font.\n",
            "  font.set_text(s, 0.0, flags=flags)\n",
            "/usr/local/lib/python3.7/dist-packages/matplotlib/backends/backend_agg.py:214: RuntimeWarning: Glyph 51068 missing from current font.\n",
            "  font.set_text(s, 0.0, flags=flags)\n",
            "/usr/local/lib/python3.7/dist-packages/matplotlib/backends/backend_agg.py:214: RuntimeWarning: Glyph 51312 missing from current font.\n",
            "  font.set_text(s, 0.0, flags=flags)\n",
            "/usr/local/lib/python3.7/dist-packages/matplotlib/backends/backend_agg.py:214: RuntimeWarning: Glyph 48708 missing from current font.\n",
            "  font.set_text(s, 0.0, flags=flags)\n",
            "/usr/local/lib/python3.7/dist-packages/matplotlib/backends/backend_agg.py:214: RuntimeWarning: Glyph 45257 missing from current font.\n",
            "  font.set_text(s, 0.0, flags=flags)\n",
            "/usr/local/lib/python3.7/dist-packages/matplotlib/backends/backend_agg.py:214: RuntimeWarning: Glyph 48169 missing from current font.\n",
            "  font.set_text(s, 0.0, flags=flags)\n",
            "/usr/local/lib/python3.7/dist-packages/matplotlib/backends/backend_agg.py:214: RuntimeWarning: Glyph 49444 missing from current font.\n",
            "  font.set_text(s, 0.0, flags=flags)\n",
            "/usr/local/lib/python3.7/dist-packages/matplotlib/backends/backend_agg.py:214: RuntimeWarning: Glyph 50868 missing from current font.\n",
            "  font.set_text(s, 0.0, flags=flags)\n",
            "/usr/local/lib/python3.7/dist-packages/matplotlib/backends/backend_agg.py:214: RuntimeWarning: Glyph 50689 missing from current font.\n",
            "  font.set_text(s, 0.0, flags=flags)\n",
            "/usr/local/lib/python3.7/dist-packages/matplotlib/backends/backend_agg.py:214: RuntimeWarning: Glyph 53468 missing from current font.\n",
            "  font.set_text(s, 0.0, flags=flags)\n",
            "/usr/local/lib/python3.7/dist-packages/matplotlib/backends/backend_agg.py:214: RuntimeWarning: Glyph 50577 missing from current font.\n",
            "  font.set_text(s, 0.0, flags=flags)\n",
            "/usr/local/lib/python3.7/dist-packages/matplotlib/backends/backend_agg.py:214: RuntimeWarning: Glyph 44305 missing from current font.\n",
            "  font.set_text(s, 0.0, flags=flags)\n",
            "/usr/local/lib/python3.7/dist-packages/matplotlib/backends/backend_agg.py:214: RuntimeWarning: Glyph 48372 missing from current font.\n",
            "  font.set_text(s, 0.0, flags=flags)\n",
            "/usr/local/lib/python3.7/dist-packages/matplotlib/backends/backend_agg.py:214: RuntimeWarning: Glyph 50976 missing from current font.\n",
            "  font.set_text(s, 0.0, flags=flags)\n",
            "/usr/local/lib/python3.7/dist-packages/matplotlib/backends/backend_agg.py:183: RuntimeWarning: Glyph 51204 missing from current font.\n",
            "  font.set_text(s, 0, flags=flags)\n",
            "/usr/local/lib/python3.7/dist-packages/matplotlib/backends/backend_agg.py:183: RuntimeWarning: Glyph 47141 missing from current font.\n",
            "  font.set_text(s, 0, flags=flags)\n",
            "/usr/local/lib/python3.7/dist-packages/matplotlib/backends/backend_agg.py:183: RuntimeWarning: Glyph 49324 missing from current font.\n",
            "  font.set_text(s, 0, flags=flags)\n",
            "/usr/local/lib/python3.7/dist-packages/matplotlib/backends/backend_agg.py:183: RuntimeWarning: Glyph 50857 missing from current font.\n",
            "  font.set_text(s, 0, flags=flags)\n",
            "/usr/local/lib/python3.7/dist-packages/matplotlib/backends/backend_agg.py:183: RuntimeWarning: Glyph 47049 missing from current font.\n",
            "  font.set_text(s, 0, flags=flags)\n",
            "/usr/local/lib/python3.7/dist-packages/matplotlib/backends/backend_agg.py:183: RuntimeWarning: Glyph 44592 missing from current font.\n",
            "  font.set_text(s, 0, flags=flags)\n",
            "/usr/local/lib/python3.7/dist-packages/matplotlib/backends/backend_agg.py:183: RuntimeWarning: Glyph 50728 missing from current font.\n",
            "  font.set_text(s, 0, flags=flags)\n",
            "/usr/local/lib/python3.7/dist-packages/matplotlib/backends/backend_agg.py:183: RuntimeWarning: Glyph 54413 missing from current font.\n",
            "  font.set_text(s, 0, flags=flags)\n",
            "/usr/local/lib/python3.7/dist-packages/matplotlib/backends/backend_agg.py:183: RuntimeWarning: Glyph 49549 missing from current font.\n",
            "  font.set_text(s, 0, flags=flags)\n",
            "/usr/local/lib/python3.7/dist-packages/matplotlib/backends/backend_agg.py:183: RuntimeWarning: Glyph 49845 missing from current font.\n",
            "  font.set_text(s, 0, flags=flags)\n",
            "/usr/local/lib/python3.7/dist-packages/matplotlib/backends/backend_agg.py:183: RuntimeWarning: Glyph 46020 missing from current font.\n",
            "  font.set_text(s, 0, flags=flags)\n",
            "/usr/local/lib/python3.7/dist-packages/matplotlib/backends/backend_agg.py:183: RuntimeWarning: Glyph 44053 missing from current font.\n",
            "  font.set_text(s, 0, flags=flags)\n",
            "/usr/local/lib/python3.7/dist-packages/matplotlib/backends/backend_agg.py:183: RuntimeWarning: Glyph 49688 missing from current font.\n",
            "  font.set_text(s, 0, flags=flags)\n",
            "/usr/local/lib/python3.7/dist-packages/matplotlib/backends/backend_agg.py:183: RuntimeWarning: Glyph 51068 missing from current font.\n",
            "  font.set_text(s, 0, flags=flags)\n",
            "/usr/local/lib/python3.7/dist-packages/matplotlib/backends/backend_agg.py:183: RuntimeWarning: Glyph 51312 missing from current font.\n",
            "  font.set_text(s, 0, flags=flags)\n",
            "/usr/local/lib/python3.7/dist-packages/matplotlib/backends/backend_agg.py:183: RuntimeWarning: Glyph 48708 missing from current font.\n",
            "  font.set_text(s, 0, flags=flags)\n",
            "/usr/local/lib/python3.7/dist-packages/matplotlib/backends/backend_agg.py:183: RuntimeWarning: Glyph 45257 missing from current font.\n",
            "  font.set_text(s, 0, flags=flags)\n",
            "/usr/local/lib/python3.7/dist-packages/matplotlib/backends/backend_agg.py:183: RuntimeWarning: Glyph 48169 missing from current font.\n",
            "  font.set_text(s, 0, flags=flags)\n",
            "/usr/local/lib/python3.7/dist-packages/matplotlib/backends/backend_agg.py:183: RuntimeWarning: Glyph 49444 missing from current font.\n",
            "  font.set_text(s, 0, flags=flags)\n",
            "/usr/local/lib/python3.7/dist-packages/matplotlib/backends/backend_agg.py:183: RuntimeWarning: Glyph 50868 missing from current font.\n",
            "  font.set_text(s, 0, flags=flags)\n",
            "/usr/local/lib/python3.7/dist-packages/matplotlib/backends/backend_agg.py:183: RuntimeWarning: Glyph 50689 missing from current font.\n",
            "  font.set_text(s, 0, flags=flags)\n",
            "/usr/local/lib/python3.7/dist-packages/matplotlib/backends/backend_agg.py:183: RuntimeWarning: Glyph 53468 missing from current font.\n",
            "  font.set_text(s, 0, flags=flags)\n",
            "/usr/local/lib/python3.7/dist-packages/matplotlib/backends/backend_agg.py:183: RuntimeWarning: Glyph 50577 missing from current font.\n",
            "  font.set_text(s, 0, flags=flags)\n",
            "/usr/local/lib/python3.7/dist-packages/matplotlib/backends/backend_agg.py:183: RuntimeWarning: Glyph 44305 missing from current font.\n",
            "  font.set_text(s, 0, flags=flags)\n",
            "/usr/local/lib/python3.7/dist-packages/matplotlib/backends/backend_agg.py:183: RuntimeWarning: Glyph 48372 missing from current font.\n",
            "  font.set_text(s, 0, flags=flags)\n",
            "/usr/local/lib/python3.7/dist-packages/matplotlib/backends/backend_agg.py:183: RuntimeWarning: Glyph 50976 missing from current font.\n",
            "  font.set_text(s, 0, flags=flags)\n"
          ]
        },
        {
          "output_type": "display_data",
          "data": {
            "image/png": "[encoded data removed]",
            "text/plain": [
              "<Figure size 1440x1440 with 1 Axes>"
            ]
          },
          "metadata": {
            "needs_background": "light"
          }
        }
      ]
    },
    {
      "cell_type": "code",
      "metadata": {
        "colab": {
          "base_uri": "https://localhost:8080/"
        },
        "id": "Xex76z-JGsKS",
        "outputId": "a5053468-fc71-4e50-ac20-691e4bd84a39"
      },
      "source": [
        "train[\"비전기냉방설비운영\"].unique(), train[\"태양광보유\"].unique() # 각각 그룹화?? 굳이?"
      ],
      "execution_count": 37,
      "outputs": [
        {
          "output_type": "execute_result",
          "data": {
            "text/plain": [
              "(array([0., 1.]), array([0., 1.]))"
            ]
          },
          "metadata": {},
          "execution_count": 37
        }
      ]
    },
    {
      "cell_type": "code",
      "metadata": {
        "id": "wM2XYEDgPUqC"
      },
      "source": [
        "from sklearn.cluster import k_means\n",
        "from sklearn.preprocessing import StandardScaler\n",
        "scaler = StandardScaler()\n",
        "\n",
        "d_list = []\n",
        "for i in range(1, 61):\n",
        "    d = train[train['num'] == i].copy()\n",
        "    d['전력사용량(kWh)'] = scaler.fit_transform(d['전력사용량(kWh)'].values.reshape(-1,1))\n",
        "    d_ = d.groupby(['weekday', 'time'])['전력사용량(kWh)'].mean().unstack()\n",
        "    d_list.append(d_.to_numpy())\n",
        "\n",
        "d_list = np.array(d_list)"
      ],
      "execution_count": 61,
      "outputs": []
    },
    {
      "cell_type": "code",
      "metadata": {
        "colab": {
          "base_uri": "https://localhost:8080/"
        },
        "id": "Aypo4wquPb9Y",
        "outputId": "6372b842-8950-44ee-e992-4db618102e1e"
      },
      "source": [
        "from sklearn.cluster import KMeans\n",
        "d_list_ = d_list.reshape(60, -1)\n",
        "model = KMeans(init=\"k-means++\", n_clusters=4, random_state=0)\n",
        "model.fit(d_list_)"
      ],
      "execution_count": 62,
      "outputs": [
        {
          "output_type": "execute_result",
          "data": {
            "text/plain": [
              "KMeans(algorithm='auto', copy_x=True, init='k-means++', max_iter=300,\n",
              "       n_clusters=4, n_init=10, n_jobs=None, precompute_distances='auto',\n",
              "       random_state=0, tol=0.0001, verbose=0)"
            ]
          },
          "metadata": {},
          "execution_count": 62
        }
      ]
    },
    {
      "cell_type": "code",
      "metadata": {
        "colab": {
          "base_uri": "https://localhost:8080/"
        },
        "id": "cLz5T31IQfEn",
        "outputId": "8f56772c-5f30-4b69-f839-60db1f9a0849"
      },
      "source": [
        "cluster = model.labels_\n",
        "pd.DataFrame(cluster).value_counts()"
      ],
      "execution_count": 63,
      "outputs": [
        {
          "output_type": "execute_result",
          "data": {
            "text/plain": [
              "1    31\n",
              "2    17\n",
              "3     7\n",
              "0     5\n",
              "dtype: int64"
            ]
          },
          "metadata": {},
          "execution_count": 63
        }
      ]
    },
    {
      "cell_type": "code",
      "metadata": {
        "colab": {
          "base_uri": "https://localhost:8080/",
          "height": 320
        },
        "id": "kGtbkCAkPjgL",
        "outputId": "c2fa5ddc-52db-4b2b-ba74-eed31a8c09d1"
      },
      "source": [
        "idx = cluster == 3\n",
        "d_list = d_list.reshape(60, 7, 24)\n",
        "\n",
        "\n",
        "fig, axes = plt.subplots(2, int(len(d_list[idx])/2), figsize = (18, 5))\n",
        "axes = axes.flatten()\n",
        "\n",
        "for d, ax in zip(d_list[idx], axes):\n",
        "    d_ = scaler.inverse_transform(d)\n",
        "    \n",
        "    ax.imshow(d_, cmap = 'jet', aspect = 'auto', extent=[0, 20, 0, 7], origin = 'lower')"
      ],
      "execution_count": 64,
      "outputs": [
        {
          "output_type": "display_data",
          "data": {
            "image/png": "[encoded data removed]",
            "text/plain": [
              "<Figure size 1296x360 with 6 Axes>"
            ]
          },
          "metadata": {
            "needs_background": "light"
          }
        }
      ]
    },
    {
      "cell_type": "code",
      "metadata": {
        "id": "0tGIdzoTPlhW"
      },
      "source": [
        "cluster_map = {i+1 : c for i, c in enumerate(cluster)}\n",
        "train['cluster'] = train['num'].map(cluster_map)\n",
        "test['cluster'] = test['num'].map(cluster_map)"
      ],
      "execution_count": 65,
      "outputs": []
    },
    {
      "cell_type": "code",
      "metadata": {
        "id": "xd4nHJ5fTsjN"
      },
      "source": [
        "X = train.drop(['date_time', '전력사용량(kWh)'], axis = 1)\n",
        "y = train['전력사용량(kWh)']\n",
        "X_test = test.drop('date_time', axis = 1)"
      ],
      "execution_count": 66,
      "outputs": []
    },
    {
      "cell_type": "code",
      "metadata": {
        "colab": {
          "base_uri": "https://localhost:8080/",
          "height": 414
        },
        "id": "5EC1Epv-OCDz",
        "outputId": "86ee7a14-ff2c-48a4-b5bf-9972888125d6"
      },
      "source": [
        "X_test"
      ],
      "execution_count": 67,
      "outputs": [
        {
          "output_type": "execute_result",
          "data": {
            "text/html": [
              "<div>\n",
              "<style scoped>\n",
              "    .dataframe tbody tr th:only-of-type {\n",
              "        vertical-align: middle;\n",
              "    }\n",
              "\n",
              "    .dataframe tbody tr th {\n",
              "        vertical-align: top;\n",
              "    }\n",
              "\n",
              "    .dataframe thead th {\n",
              "        text-align: right;\n",
              "    }\n",
              "</style>\n",
              "<table border=\"1\" class=\"dataframe\">\n",
              "  <thead>\n",
              "    <tr style=\"text-align: right;\">\n",
              "      <th></th>\n",
              "      <th>num</th>\n",
              "      <th>date_time</th>\n",
              "      <th>기온(°C)</th>\n",
              "      <th>풍속(m/s)</th>\n",
              "      <th>습도(%)</th>\n",
              "      <th>강수량(mm, 6시간)</th>\n",
              "      <th>일조(hr, 3시간)</th>\n",
              "      <th>비전기냉방설비운영</th>\n",
              "      <th>태양광보유</th>\n",
              "      <th>time</th>\n",
              "      <th>weekday</th>\n",
              "      <th>cluster</th>\n",
              "    </tr>\n",
              "  </thead>\n",
              "  <tbody>\n",
              "    <tr>\n",
              "      <th>0</th>\n",
              "      <td>1</td>\n",
              "      <td>2020-08-25 00</td>\n",
              "      <td>27.800000</td>\n",
              "      <td>1.500000</td>\n",
              "      <td>74.000000</td>\n",
              "      <td>0.0</td>\n",
              "      <td>0.000000</td>\n",
              "      <td>0.0</td>\n",
              "      <td>0.0</td>\n",
              "      <td>0</td>\n",
              "      <td>1</td>\n",
              "      <td>0</td>\n",
              "    </tr>\n",
              "    <tr>\n",
              "      <th>1</th>\n",
              "      <td>1</td>\n",
              "      <td>2020-08-25 01</td>\n",
              "      <td>27.633333</td>\n",
              "      <td>1.366667</td>\n",
              "      <td>75.333333</td>\n",
              "      <td>0.0</td>\n",
              "      <td>0.000000</td>\n",
              "      <td>0.0</td>\n",
              "      <td>0.0</td>\n",
              "      <td>1</td>\n",
              "      <td>1</td>\n",
              "      <td>0</td>\n",
              "    </tr>\n",
              "    <tr>\n",
              "      <th>2</th>\n",
              "      <td>1</td>\n",
              "      <td>2020-08-25 02</td>\n",
              "      <td>27.466667</td>\n",
              "      <td>1.233333</td>\n",
              "      <td>76.666667</td>\n",
              "      <td>0.0</td>\n",
              "      <td>0.000000</td>\n",
              "      <td>0.0</td>\n",
              "      <td>0.0</td>\n",
              "      <td>2</td>\n",
              "      <td>1</td>\n",
              "      <td>0</td>\n",
              "    </tr>\n",
              "    <tr>\n",
              "      <th>3</th>\n",
              "      <td>1</td>\n",
              "      <td>2020-08-25 03</td>\n",
              "      <td>27.300000</td>\n",
              "      <td>1.100000</td>\n",
              "      <td>78.000000</td>\n",
              "      <td>0.0</td>\n",
              "      <td>0.000000</td>\n",
              "      <td>0.0</td>\n",
              "      <td>0.0</td>\n",
              "      <td>3</td>\n",
              "      <td>1</td>\n",
              "      <td>0</td>\n",
              "    </tr>\n",
              "    <tr>\n",
              "      <th>4</th>\n",
              "      <td>1</td>\n",
              "      <td>2020-08-25 04</td>\n",
              "      <td>26.900000</td>\n",
              "      <td>1.166667</td>\n",
              "      <td>79.666667</td>\n",
              "      <td>0.0</td>\n",
              "      <td>0.000000</td>\n",
              "      <td>0.0</td>\n",
              "      <td>0.0</td>\n",
              "      <td>4</td>\n",
              "      <td>1</td>\n",
              "      <td>0</td>\n",
              "    </tr>\n",
              "    <tr>\n",
              "      <th>...</th>\n",
              "      <td>...</td>\n",
              "      <td>...</td>\n",
              "      <td>...</td>\n",
              "      <td>...</td>\n",
              "      <td>...</td>\n",
              "      <td>...</td>\n",
              "      <td>...</td>\n",
              "      <td>...</td>\n",
              "      <td>...</td>\n",
              "      <td>...</td>\n",
              "      <td>...</td>\n",
              "      <td>...</td>\n",
              "    </tr>\n",
              "    <tr>\n",
              "      <th>10075</th>\n",
              "      <td>60</td>\n",
              "      <td>2020-08-31 19</td>\n",
              "      <td>28.633333</td>\n",
              "      <td>3.566667</td>\n",
              "      <td>66.000000</td>\n",
              "      <td>0.0</td>\n",
              "      <td>0.533333</td>\n",
              "      <td>1.0</td>\n",
              "      <td>1.0</td>\n",
              "      <td>19</td>\n",
              "      <td>0</td>\n",
              "      <td>2</td>\n",
              "    </tr>\n",
              "    <tr>\n",
              "      <th>10076</th>\n",
              "      <td>60</td>\n",
              "      <td>2020-08-31 20</td>\n",
              "      <td>28.266667</td>\n",
              "      <td>3.833333</td>\n",
              "      <td>67.000000</td>\n",
              "      <td>0.0</td>\n",
              "      <td>0.266667</td>\n",
              "      <td>1.0</td>\n",
              "      <td>1.0</td>\n",
              "      <td>20</td>\n",
              "      <td>0</td>\n",
              "      <td>2</td>\n",
              "    </tr>\n",
              "    <tr>\n",
              "      <th>10077</th>\n",
              "      <td>60</td>\n",
              "      <td>2020-08-31 21</td>\n",
              "      <td>27.900000</td>\n",
              "      <td>4.100000</td>\n",
              "      <td>68.000000</td>\n",
              "      <td>0.0</td>\n",
              "      <td>0.000000</td>\n",
              "      <td>1.0</td>\n",
              "      <td>1.0</td>\n",
              "      <td>21</td>\n",
              "      <td>0</td>\n",
              "      <td>2</td>\n",
              "    </tr>\n",
              "    <tr>\n",
              "      <th>10078</th>\n",
              "      <td>60</td>\n",
              "      <td>2020-08-31 22</td>\n",
              "      <td>27.900000</td>\n",
              "      <td>4.100000</td>\n",
              "      <td>68.000000</td>\n",
              "      <td>0.0</td>\n",
              "      <td>0.000000</td>\n",
              "      <td>1.0</td>\n",
              "      <td>1.0</td>\n",
              "      <td>22</td>\n",
              "      <td>0</td>\n",
              "      <td>2</td>\n",
              "    </tr>\n",
              "    <tr>\n",
              "      <th>10079</th>\n",
              "      <td>60</td>\n",
              "      <td>2020-08-31 23</td>\n",
              "      <td>27.900000</td>\n",
              "      <td>4.100000</td>\n",
              "      <td>68.000000</td>\n",
              "      <td>0.0</td>\n",
              "      <td>0.000000</td>\n",
              "      <td>1.0</td>\n",
              "      <td>1.0</td>\n",
              "      <td>23</td>\n",
              "      <td>0</td>\n",
              "      <td>2</td>\n",
              "    </tr>\n",
              "  </tbody>\n",
              "</table>\n",
              "<p>10080 rows × 12 columns</p>\n",
              "</div>"
            ],
            "text/plain": [
              "       num      date_time     기온(°C)   풍속(m/s)  ...  태양광보유  time  weekday  cluster\n",
              "0        1  2020-08-25 00  27.800000  1.500000  ...    0.0     0        1        0\n",
              "1        1  2020-08-25 01  27.633333  1.366667  ...    0.0     1        1        0\n",
              "2        1  2020-08-25 02  27.466667  1.233333  ...    0.0     2        1        0\n",
              "3        1  2020-08-25 03  27.300000  1.100000  ...    0.0     3        1        0\n",
              "4        1  2020-08-25 04  26.900000  1.166667  ...    0.0     4        1        0\n",
              "...    ...            ...        ...       ...  ...    ...   ...      ...      ...\n",
              "10075   60  2020-08-31 19  28.633333  3.566667  ...    1.0    19        0        2\n",
              "10076   60  2020-08-31 20  28.266667  3.833333  ...    1.0    20        0        2\n",
              "10077   60  2020-08-31 21  27.900000  4.100000  ...    1.0    21        0        2\n",
              "10078   60  2020-08-31 22  27.900000  4.100000  ...    1.0    22        0        2\n",
              "10079   60  2020-08-31 23  27.900000  4.100000  ...    1.0    23        0        2\n",
              "\n",
              "[10080 rows x 12 columns]"
            ]
          },
          "metadata": {},
          "execution_count": 67
        }
      ]
    },
    {
      "cell_type": "code",
      "metadata": {
        "colab": {
          "base_uri": "https://localhost:8080/"
        },
        "id": "Rp-ldUdNMJWM",
        "outputId": "b3b057d7-cce4-4d66-968a-624ab51d0dcd"
      },
      "source": [
        "from sklearn.model_selection import train_test_split\n",
        "from lightgbm import LGBMRegressor\n",
        "from sklearn.model_selection import StratifiedKFold\n",
        "\n",
        "n_splits = 5\n",
        "sfk = StratifiedKFold(n_splits = n_splits)\n",
        "y_pred = np.zeros(len(X_test))\n",
        "\n",
        "for tr_idx, val_idx in sfk.split(X, X['num']):      \n",
        "    X_train = X.iloc[tr_idx, :]\n",
        "    y_train = y[tr_idx]\n",
        "\n",
        "    X_val = X.iloc[val_idx, :]\n",
        "    y_val = y[val_idx]\n",
        "\n",
        "    lgbm = LGBMRegressor(n_estimators = 10000, learning_rate= 0.1,objective = 'mse')\n",
        "    lgbm.fit(X_train, y_train, eval_set=[(X_val, y_val)], eval_metric= 'rmse', early_stopping_rounds= 50,verbose = 100)\n",
        "    y_pred += lgbm.predict(X_test) / n_splits"
      ],
      "execution_count": 68,
      "outputs": [
        {
          "output_type": "stream",
          "name": "stdout",
          "text": [
            "Training until validation scores don't improve for 50 rounds.\n",
            "[100]\tvalid_0's l2: 128049\tvalid_0's rmse: 357.839\n",
            "[200]\tvalid_0's l2: 107240\tvalid_0's rmse: 327.475\n",
            "[300]\tvalid_0's l2: 99553.6\tvalid_0's rmse: 315.521\n",
            "[400]\tvalid_0's l2: 95411.8\tvalid_0's rmse: 308.888\n",
            "[500]\tvalid_0's l2: 94164\tvalid_0's rmse: 306.861\n",
            "[600]\tvalid_0's l2: 92410.5\tvalid_0's rmse: 303.991\n",
            "[700]\tvalid_0's l2: 91282.1\tvalid_0's rmse: 302.129\n",
            "[800]\tvalid_0's l2: 90522.4\tvalid_0's rmse: 300.869\n",
            "[900]\tvalid_0's l2: 89520.6\tvalid_0's rmse: 299.2\n",
            "[1000]\tvalid_0's l2: 88917.2\tvalid_0's rmse: 298.19\n",
            "[1100]\tvalid_0's l2: 88297\tvalid_0's rmse: 297.148\n",
            "Early stopping, best iteration is:\n",
            "[1111]\tvalid_0's l2: 88249\tvalid_0's rmse: 297.067\n",
            "Training until validation scores don't improve for 50 rounds.\n",
            "[100]\tvalid_0's l2: 83031.1\tvalid_0's rmse: 288.151\n",
            "[200]\tvalid_0's l2: 61161\tvalid_0's rmse: 247.308\n",
            "[300]\tvalid_0's l2: 54848.2\tvalid_0's rmse: 234.197\n",
            "[400]\tvalid_0's l2: 52518.6\tvalid_0's rmse: 229.169\n",
            "[500]\tvalid_0's l2: 50763\tvalid_0's rmse: 225.306\n",
            "[600]\tvalid_0's l2: 49714\tvalid_0's rmse: 222.966\n",
            "[700]\tvalid_0's l2: 48682.1\tvalid_0's rmse: 220.64\n",
            "[800]\tvalid_0's l2: 48357.7\tvalid_0's rmse: 219.904\n",
            "[900]\tvalid_0's l2: 48166.3\tvalid_0's rmse: 219.468\n",
            "Early stopping, best iteration is:\n",
            "[885]\tvalid_0's l2: 48105.5\tvalid_0's rmse: 219.33\n",
            "Training until validation scores don't improve for 50 rounds.\n",
            "[100]\tvalid_0's l2: 92427.7\tvalid_0's rmse: 304.019\n",
            "[200]\tvalid_0's l2: 73758.1\tvalid_0's rmse: 271.584\n",
            "[300]\tvalid_0's l2: 68459.5\tvalid_0's rmse: 261.648\n",
            "[400]\tvalid_0's l2: 64950.1\tvalid_0's rmse: 254.853\n",
            "[500]\tvalid_0's l2: 63050.3\tvalid_0's rmse: 251.098\n",
            "[600]\tvalid_0's l2: 62406.3\tvalid_0's rmse: 249.812\n",
            "[700]\tvalid_0's l2: 61884\tvalid_0's rmse: 248.765\n",
            "Early stopping, best iteration is:\n",
            "[693]\tvalid_0's l2: 61863\tvalid_0's rmse: 248.723\n",
            "Training until validation scores don't improve for 50 rounds.\n",
            "[100]\tvalid_0's l2: 94851.3\tvalid_0's rmse: 307.979\n",
            "[200]\tvalid_0's l2: 73275.8\tvalid_0's rmse: 270.695\n",
            "[300]\tvalid_0's l2: 65836.2\tvalid_0's rmse: 256.586\n",
            "[400]\tvalid_0's l2: 62699.8\tvalid_0's rmse: 250.399\n",
            "[500]\tvalid_0's l2: 60419.6\tvalid_0's rmse: 245.804\n",
            "[600]\tvalid_0's l2: 59313\tvalid_0's rmse: 243.543\n",
            "[700]\tvalid_0's l2: 58740.2\tvalid_0's rmse: 242.364\n",
            "[800]\tvalid_0's l2: 58575\tvalid_0's rmse: 242.023\n",
            "[900]\tvalid_0's l2: 58053.4\tvalid_0's rmse: 240.943\n",
            "[1000]\tvalid_0's l2: 57707.5\tvalid_0's rmse: 240.224\n",
            "[1100]\tvalid_0's l2: 57339.4\tvalid_0's rmse: 239.456\n",
            "[1200]\tvalid_0's l2: 57023.2\tvalid_0's rmse: 238.795\n",
            "[1300]\tvalid_0's l2: 56980.7\tvalid_0's rmse: 238.706\n",
            "Early stopping, best iteration is:\n",
            "[1287]\tvalid_0's l2: 56851.5\tvalid_0's rmse: 238.436\n",
            "Training until validation scores don't improve for 50 rounds.\n",
            "[100]\tvalid_0's l2: 232148\tvalid_0's rmse: 481.817\n",
            "[200]\tvalid_0's l2: 179981\tvalid_0's rmse: 424.242\n",
            "[300]\tvalid_0's l2: 167572\tvalid_0's rmse: 409.356\n",
            "[400]\tvalid_0's l2: 159171\tvalid_0's rmse: 398.963\n",
            "[500]\tvalid_0's l2: 153951\tvalid_0's rmse: 392.366\n",
            "[600]\tvalid_0's l2: 151416\tvalid_0's rmse: 389.122\n",
            "[700]\tvalid_0's l2: 149576\tvalid_0's rmse: 386.75\n",
            "[800]\tvalid_0's l2: 147782\tvalid_0's rmse: 384.424\n",
            "[900]\tvalid_0's l2: 146855\tvalid_0's rmse: 383.217\n",
            "[1000]\tvalid_0's l2: 145690\tvalid_0's rmse: 381.694\n",
            "[1100]\tvalid_0's l2: 144924\tvalid_0's rmse: 380.689\n",
            "[1200]\tvalid_0's l2: 144226\tvalid_0's rmse: 379.771\n",
            "[1300]\tvalid_0's l2: 143619\tvalid_0's rmse: 378.971\n",
            "[1400]\tvalid_0's l2: 143197\tvalid_0's rmse: 378.414\n",
            "[1500]\tvalid_0's l2: 143096\tvalid_0's rmse: 378.28\n",
            "[1600]\tvalid_0's l2: 142954\tvalid_0's rmse: 378.092\n",
            "Early stopping, best iteration is:\n",
            "[1620]\tvalid_0's l2: 142852\tvalid_0's rmse: 377.957\n"
          ]
        }
      ]
    },
    {
      "cell_type": "code",
      "metadata": {
        "id": "PMazIFkpQmf8"
      },
      "source": [
        "submission = sample_sub.copy()\n",
        "submission['answer'] = y_pred"
      ],
      "execution_count": 69,
      "outputs": []
    },
    {
      "cell_type": "code",
      "metadata": {
        "id": "JQGyXAVXQxjq"
      },
      "source": [
        "submission.to_csv('전력사용량_baseline_lgbm.csv', index= False)"
      ],
      "execution_count": 70,
      "outputs": []
    },
    {
      "cell_type": "code",
      "metadata": {
        "colab": {
          "base_uri": "https://localhost:8080/"
        },
        "id": "_zU_ZmKZQ2Pd",
        "outputId": "3e49b1d9-6969-4267-bbc3-256468cafae1"
      },
      "source": [
        "pip install lime"
      ],
      "execution_count": 72,
      "outputs": [
        {
          "output_type": "stream",
          "name": "stdout",
          "text": [
            "Collecting lime\n",
            "  Downloading lime-0.2.0.1.tar.gz (275 kB)\n",
            "\u001b[?25l\r\u001b[K     |█▏                              | 10 kB 24.1 MB/s eta 0:00:01\r\u001b[K     |██▍                             | 20 kB 30.2 MB/s eta 0:00:01\r\u001b[K     |███▋                            | 30 kB 12.7 MB/s eta 0:00:01\r\u001b[K     |████▊                           | 40 kB 9.6 MB/s eta 0:00:01\r\u001b[K     |██████                          | 51 kB 5.2 MB/s eta 0:00:01\r\u001b[K     |███████▏                        | 61 kB 5.1 MB/s eta 0:00:01\r\u001b[K     |████████▎                       | 71 kB 5.5 MB/s eta 0:00:01\r\u001b[K     |█████████▌                      | 81 kB 6.2 MB/s eta 0:00:01\r\u001b[K     |██████████▊                     | 92 kB 4.7 MB/s eta 0:00:01\r\u001b[K     |███████████▉                    | 102 kB 4.9 MB/s eta 0:00:01\r\u001b[K     |█████████████                   | 112 kB 4.9 MB/s eta 0:00:01\r\u001b[K     |██████████████▎                 | 122 kB 4.9 MB/s eta 0:00:01\r\u001b[K     |███████████████▌                | 133 kB 4.9 MB/s eta 0:00:01\r\u001b[K     |████████████████▋               | 143 kB 4.9 MB/s eta 0:00:01\r\u001b[K     |█████████████████▉              | 153 kB 4.9 MB/s eta 0:00:01\r\u001b[K     |███████████████████             | 163 kB 4.9 MB/s eta 0:00:01\r\u001b[K     |████████████████████▏           | 174 kB 4.9 MB/s eta 0:00:01\r\u001b[K     |█████████████████████▍          | 184 kB 4.9 MB/s eta 0:00:01\r\u001b[K     |██████████████████████▋         | 194 kB 4.9 MB/s eta 0:00:01\r\u001b[K     |███████████████████████▊        | 204 kB 4.9 MB/s eta 0:00:01\r\u001b[K     |█████████████████████████       | 215 kB 4.9 MB/s eta 0:00:01\r\u001b[K     |██████████████████████████▏     | 225 kB 4.9 MB/s eta 0:00:01\r\u001b[K     |███████████████████████████▍    | 235 kB 4.9 MB/s eta 0:00:01\r\u001b[K     |████████████████████████████▌   | 245 kB 4.9 MB/s eta 0:00:01\r\u001b[K     |█████████████████████████████▊  | 256 kB 4.9 MB/s eta 0:00:01\r\u001b[K     |███████████████████████████████ | 266 kB 4.9 MB/s eta 0:00:01\r\u001b[K     |████████████████████████████████| 275 kB 4.9 MB/s \n",
            "\u001b[?25hRequirement already satisfied: matplotlib in /usr/local/lib/python3.7/dist-packages (from lime) (3.2.2)\n",
            "Requirement already satisfied: numpy in /usr/local/lib/python3.7/dist-packages (from lime) (1.19.5)\n",
            "Requirement already satisfied: scipy in /usr/local/lib/python3.7/dist-packages (from lime) (1.4.1)\n",
            "Requirement already satisfied: tqdm in /usr/local/lib/python3.7/dist-packages (from lime) (4.62.3)\n",
            "Requirement already satisfied: scikit-learn>=0.18 in /usr/local/lib/python3.7/dist-packages (from lime) (0.22.2.post1)\n",
            "Requirement already satisfied: scikit-image>=0.12 in /usr/local/lib/python3.7/dist-packages (from lime) (0.16.2)\n",
            "Requirement already satisfied: PyWavelets>=0.4.0 in /usr/local/lib/python3.7/dist-packages (from scikit-image>=0.12->lime) (1.1.1)\n",
            "Requirement already satisfied: pillow>=4.3.0 in /usr/local/lib/python3.7/dist-packages (from scikit-image>=0.12->lime) (7.1.2)\n",
            "Requirement already satisfied: networkx>=2.0 in /usr/local/lib/python3.7/dist-packages (from scikit-image>=0.12->lime) (2.6.3)\n",
            "Requirement already satisfied: imageio>=2.3.0 in /usr/local/lib/python3.7/dist-packages (from scikit-image>=0.12->lime) (2.4.1)\n",
            "Requirement already satisfied: python-dateutil>=2.1 in /usr/local/lib/python3.7/dist-packages (from matplotlib->lime) (2.8.2)\n",
            "Requirement already satisfied: pyparsing!=2.0.4,!=2.1.2,!=2.1.6,>=2.0.1 in /usr/local/lib/python3.7/dist-packages (from matplotlib->lime) (2.4.7)\n",
            "Requirement already satisfied: kiwisolver>=1.0.1 in /usr/local/lib/python3.7/dist-packages (from matplotlib->lime) (1.3.2)\n",
            "Requirement already satisfied: cycler>=0.10 in /usr/local/lib/python3.7/dist-packages (from matplotlib->lime) (0.10.0)\n",
            "Requirement already satisfied: six in /usr/local/lib/python3.7/dist-packages (from cycler>=0.10->matplotlib->lime) (1.15.0)\n",
            "Requirement already satisfied: joblib>=0.11 in /usr/local/lib/python3.7/dist-packages (from scikit-learn>=0.18->lime) (1.0.1)\n",
            "Building wheels for collected packages: lime\n",
            "  Building wheel for lime (setup.py) ... \u001b[?25l\u001b[?25hdone\n",
            "  Created wheel for lime: filename=lime-0.2.0.1-py3-none-any.whl size=283857 sha256=bead733ad8b092d643ad9943c0222473eba444d64cfc423aee117675a4d53c38\n",
            "  Stored in directory: /root/.cache/pip/wheels/ca/cb/e5/ac701e12d365a08917bf4c6171c0961bc880a8181359c66aa7\n",
            "Successfully built lime\n",
            "Installing collected packages: lime\n",
            "Successfully installed lime-0.2.0.1\n"
          ]
        }
      ]
    },
    {
      "cell_type": "code",
      "metadata": {
        "id": "Qj5XIyN1SpzC"
      },
      "source": [
        "def plot_feat_importance(reg, train):\n",
        "    if hasattr(reg, 'feature_importances_'):\n",
        "        importances = reg.feature_importances_\n",
        "        features = train.columns\n",
        "        feat_importances = pd.DataFrame()\n",
        "        feat_importances[\"weight\"] = importances\n",
        "        feat_importances.index = features\n",
        "        feat_importances.sort_values(by=\"weight\", ascending=False).to_csv(f\"top_features.csv\")\n",
        "        feat_importances.nlargest(30, [\"weight\"]).sort_values(by=\"weight\").plot(kind='barh', title=f\"top features\", color='#86bf91', figsize=(10, 8))\n",
        "        plt.savefig(f'feature-weights.png')\n",
        "        plt.savefig(f'feature-weights.pdf')\n",
        "        plt.show()"
      ],
      "execution_count": 73,
      "outputs": []
    },
    {
      "cell_type": "code",
      "metadata": {
        "id": "C-3fHWvEUdM7"
      },
      "source": [
        "def plot_pimp(pimps, train):\n",
        "    importances = pimps.importances_mean\n",
        "    features = train.columns\n",
        "    feat_importances = pd.DataFrame()\n",
        "    feat_importances[\"weight\"] = importances\n",
        "    feat_importances.index = features\n",
        "    feat_importances.sort_values(by=\"weight\", ascending=False).to_csv(f\"top_features.csv\")\n",
        "    feat_importances.nlargest(30, [\"weight\"]).sort_values(by=\"weight\").plot(kind='barh', title=f\"top features\", color='#86bf91', figsize=(10, 8))\n",
        "    # kaggle shows output image files (like this png) under \"output visualizations\", others (such as pdf) under \"output\"\n",
        "    plt.savefig(f'feature-weights.png')\n",
        "    plt.savefig(f'feature-weights.pdf')\n",
        "    plt.show()"
      ],
      "execution_count": 81,
      "outputs": []
    },
    {
      "cell_type": "code",
      "metadata": {
        "id": "is2s1TusUGS7"
      },
      "source": [
        "import warnings\n",
        "\n",
        "warnings.filterwarnings(action='ignore') \n"
      ],
      "execution_count": 79,
      "outputs": []
    },
    {
      "cell_type": "code",
      "metadata": {
        "colab": {
          "base_uri": "https://localhost:8080/",
          "height": 498
        },
        "id": "l-naNGtqTxWo",
        "outputId": "b21339d0-bef1-43fc-9bad-cd1ed2245290"
      },
      "source": [
        "plot_feat_importance(lgbm, X_train)"
      ],
      "execution_count": 80,
      "outputs": [
        {
          "output_type": "display_data",
          "data": {
            "image/png": "[encoded data removed]",
            "text/plain": [
              "<Figure size 720x576 with 1 Axes>"
            ]
          },
          "metadata": {
            "needs_background": "light"
          }
        }
      ]
    },
    {
      "cell_type": "code",
      "metadata": {
        "id": "vkIqHwNqT32l"
      },
      "source": [
        "from sklearn.inspection import permutation_importance\n",
        "\n",
        "l_pimps = permutation_importance(lgbm, X_train, y_train, n_repeats=10, random_state=0)\n",
        "dir(l_pimps)"
      ],
      "execution_count": null,
      "outputs": []
    },
    {
      "cell_type": "code",
      "metadata": {
        "id": "dekibT0_UlBC"
      },
      "source": [
        "plot_pimp(l_pimps, X_train)"
      ],
      "execution_count": null,
      "outputs": []
    }
  ]
}